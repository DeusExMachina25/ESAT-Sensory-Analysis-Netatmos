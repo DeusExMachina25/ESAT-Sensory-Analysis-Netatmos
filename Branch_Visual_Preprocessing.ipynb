{
  "nbformat": 4,
  "nbformat_minor": 0,
  "metadata": {
    "colab": {
      "provenance": [],
      "toc_visible": true,
      "authorship_tag": "ABX9TyMXXlx3BwuxFq/onx+5t9RF",
      "include_colab_link": true
    },
    "kernelspec": {
      "name": "python3",
      "display_name": "Python 3"
    },
    "language_info": {
      "name": "python"
    }
  },
  "cells": [
    {
      "cell_type": "markdown",
      "metadata": {
        "id": "view-in-github",
        "colab_type": "text"
      },
      "source": [
        "<a href=\"https://colab.research.google.com/github/DeusExMachina25/ESAT-Sensory-Analysis-Netatmos/blob/main/Branch_Visual_Preprocessing.ipynb\" target=\"_parent\"><img src=\"https://colab.research.google.com/assets/colab-badge.svg\" alt=\"Open In Colab\"/></a>"
      ]
    },
    {
      "cell_type": "markdown",
      "source": [
        "# **Pre-Visual Plots**"
      ],
      "metadata": {
        "id": "JqL8Vt25GEoU"
      }
    },
    {
      "cell_type": "markdown",
      "source": [
        "## **T1**"
      ],
      "metadata": {
        "id": "algcFW3k_Jkb"
      }
    },
    {
      "cell_type": "code",
      "source": [
        "fig = plt.figure()\n",
        "\n",
        "#Lineplot\n",
        "plt.subplot(2, 2, 1)\n",
        "plt.plot(temp_df.Temperature_T1, linewidth = .5)\n",
        "plt.xlabel('Time')\n",
        "plt.ylabel('Temperature')\n",
        "plt.grid(True)\n",
        "\n",
        "plt.rcParams['figure.figsize'] = [16, 10]\n",
        "plt.rcParams.update({'font.size': 15})\n",
        "\n",
        "#Heatmap\n",
        "plt.subplot(2, 2, 2)\n",
        "demand1D_tempT1 = np.array(temp_df.Temperature_T1)\n",
        "number_samples = 288\n",
        "number_days = demand1D_tempT1.shape[0] // number_samples\n",
        "demand2D_tempT1 = demand1D_tempT1[:number_days * number_samples].reshape(number_days, number_samples)\n",
        "\n",
        "plt.imshow(demand2D_tempT1, cmap='hot')\n",
        "plt.xlabel('Time of Day')\n",
        "plt.ylabel('Day of Year')\n",
        "plt.colorbar()\n",
        "\n",
        "#Mean Variability\n",
        "plt.subplot(2, 2, 3)\n",
        "plt.plot(demand2D_tempT1.T, alpha=.1, color='black')\n",
        "plt.plot(np.mean(demand2D_tempT1, axis=0), '*--', color='red')\n",
        "plt.xlabel('Time of day')\n",
        "plt.ylabel('Average Temperature')\n",
        "plt.grid(True)\n",
        "\n",
        "#Boxplot\n",
        "plt.subplot(2, 2, 4)\n",
        "plt.boxplot(demand2D_tempT1)\n",
        "plt.grid(True)\n"
      ],
      "metadata": {
        "id": "GHoGO9iv99Fq"
      },
      "execution_count": null,
      "outputs": []
    },
    {
      "cell_type": "markdown",
      "source": [
        "## **T2**"
      ],
      "metadata": {
        "id": "GzLY-oM8_HIs"
      }
    },
    {
      "cell_type": "code",
      "source": [
        "#Lineplot\n",
        "plt.subplot(2, 2, 1)\n",
        "plt.plot(temp_df.Temperature_T2, linewidth = .5)\n",
        "plt.xlabel('Time')\n",
        "plt.ylabel('Temperature')\n",
        "plt.grid(True)\n",
        "\n",
        "plt.rcParams['figure.figsize'] = [16, 10]\n",
        "plt.rcParams.update({'font.size': 15})\n",
        "\n",
        "#Heatmap\n",
        "plt.subplot(2, 2, 2)\n",
        "demand1D_tempT2 = np.array(temp_df.Temperature_T2)\n",
        "number_samples = 288\n",
        "number_days = demand1D_tempT2.shape[0] // number_samples\n",
        "demand2D_tempT2 = demand1D_tempT2[:number_days * number_samples].reshape(number_days, number_samples)\n",
        "\n",
        "plt.imshow(demand2D_tempT2, cmap='hot')\n",
        "plt.xlabel('Time of Day')\n",
        "plt.ylabel('Day of Year')\n",
        "plt.colorbar()\n",
        "\n",
        "#Mean Variability\n",
        "plt.subplot(2, 2, 3)\n",
        "plt.plot(demand2D_tempT2.T, alpha=.1, color='black')\n",
        "plt.plot(np.mean(demand2D_tempT2, axis=0), '*--', color='red')\n",
        "plt.xlabel('Time of day')\n",
        "plt.ylabel('Average Temperature')\n",
        "plt.grid(True)\n",
        "\n",
        "#Boxplot\n",
        "plt.subplot(2, 2, 4)\n",
        "plt.boxplot(demand2D_tempT2)\n",
        "plt.grid(True)"
      ],
      "metadata": {
        "id": "1mqIXpr7_HOg"
      },
      "execution_count": null,
      "outputs": []
    },
    {
      "cell_type": "markdown",
      "source": [
        "## **T3**"
      ],
      "metadata": {
        "id": "O8thb18R_HTX"
      }
    },
    {
      "cell_type": "code",
      "source": [
        "#Lineplot\n",
        "plt.subplot(2, 2, 1)\n",
        "plt.plot(temp_df.Temperature_T3, linewidth = .5)\n",
        "plt.xlabel('Time')\n",
        "plt.ylabel('Temperature')\n",
        "plt.grid(True)\n",
        "\n",
        "plt.rcParams['figure.figsize'] = [16, 10]\n",
        "plt.rcParams.update({'font.size': 15})\n",
        "\n",
        "#Heatmap\n",
        "plt.subplot(2, 2, 2)\n",
        "demand1D_tempT3 = np.array(temp_df.Temperature_T3)\n",
        "number_samples = 288\n",
        "number_days = demand1D_tempT3.shape[0] // number_samples\n",
        "demand2D_tempT3 = demand1D_tempT3[:number_days * number_samples].reshape(number_days, number_samples)\n",
        "\n",
        "plt.imshow(demand2D_tempT3, cmap='hot')\n",
        "plt.xlabel('Time of Day')\n",
        "plt.ylabel('Day of Year')\n",
        "plt.colorbar()\n",
        "\n",
        "#Mean Variability\n",
        "plt.subplot(2, 2, 3)\n",
        "plt.plot(demand2D_tempT3.T, alpha=.1, color='black')\n",
        "plt.plot(np.mean(demand2D_tempT3, axis=0), '*--', color='red')\n",
        "plt.xlabel('Time of day')\n",
        "plt.ylabel('Average Temperature')\n",
        "plt.grid(True)\n",
        "\n",
        "#Boxplot\n",
        "plt.subplot(2, 2, 4)\n",
        "plt.boxplot(demand2D_tempT3)\n",
        "plt.grid(True)\n"
      ],
      "metadata": {
        "id": "Rfyobyez_HZh"
      },
      "execution_count": null,
      "outputs": []
    },
    {
      "cell_type": "markdown",
      "source": [
        "## **T4**"
      ],
      "metadata": {
        "id": "Y77XYUoC_IKx"
      }
    },
    {
      "cell_type": "code",
      "source": [
        "#Lineplot\n",
        "plt.subplot(2, 2, 1)\n",
        "plt.plot(temp_df.Temperature_T4, linewidth = .5)\n",
        "plt.xlabel('Time')\n",
        "plt.ylabel('Temperature')\n",
        "plt.grid(True)\n",
        "\n",
        "plt.rcParams['figure.figsize'] = [16, 10]\n",
        "plt.rcParams.update({'font.size': 15})\n",
        "\n",
        "#Heatmap\n",
        "plt.subplot(2, 2, 2)\n",
        "demand1D_tempT4 = np.array(temp_df.Temperature_T4)\n",
        "number_samples = 288\n",
        "number_days = demand1D_tempT4.shape[0] // number_samples\n",
        "demand2D_tempT4 = demand1D_tempT4[:number_days * number_samples].reshape(number_days, number_samples)\n",
        "\n",
        "plt.imshow(demand2D_tempT4, cmap='hot')\n",
        "plt.xlabel('Time of Day')\n",
        "plt.ylabel('Day of Year')\n",
        "plt.colorbar()\n",
        "\n",
        "#Mean Variability\n",
        "plt.subplot(2, 2, 3)\n",
        "plt.plot(demand2D_tempT4.T, alpha=.1, color='black')\n",
        "plt.plot(np.mean(demand2D_tempT4, axis=0), '*--', color='red')\n",
        "plt.xlabel('Time of day')\n",
        "plt.ylabel('Average Temperature')\n",
        "plt.grid(True)\n",
        "\n",
        "#Boxplot\n",
        "plt.subplot(2, 2, 4)\n",
        "plt.boxplot(demand2D_tempT4)\n",
        "plt.grid(True)"
      ],
      "metadata": {
        "id": "NSJLJqaG_HlI"
      },
      "execution_count": null,
      "outputs": []
    },
    {
      "cell_type": "markdown",
      "source": [
        "## **C1**"
      ],
      "metadata": {
        "id": "rSdibWZJ_Iwi"
      }
    },
    {
      "cell_type": "code",
      "source": [
        "#Lineplot\n",
        "plt.subplot(2, 2, 1)\n",
        "plt.plot(temp_df.Temperature_C1, linewidth = .5)\n",
        "plt.xlabel('Time')\n",
        "plt.ylabel('Temperature')\n",
        "plt.grid(True)\n",
        "\n",
        "plt.rcParams['figure.figsize'] = [16, 10]\n",
        "plt.rcParams.update({'font.size': 15})\n",
        "\n",
        "#Heatmap\n",
        "plt.subplot(2, 2, 2)\n",
        "demand1D_tempC1 = np.array(temp_df.Temperature_C1)\n",
        "number_samples = 288\n",
        "number_days = demand1D_tempC1.shape[0] // number_samples\n",
        "demand2D_tempC1 = demand1D_tempC1[:number_days * number_samples].reshape(number_days, number_samples)\n",
        "\n",
        "plt.imshow(demand2D_tempC1, cmap='hot')\n",
        "plt.xlabel('Time of Day')\n",
        "plt.ylabel('Day of Year')\n",
        "plt.colorbar()\n",
        "\n",
        "#Mean Variability\n",
        "plt.subplot(2, 2, 3)\n",
        "plt.plot(demand2D_tempC1.T, alpha=.1, color='black')\n",
        "plt.plot(np.mean(demand2D_tempC1, axis=0), '*--', color='red')\n",
        "plt.xlabel('Time of day')\n",
        "plt.ylabel('Average Temperature')\n",
        "plt.grid(True)\n",
        "\n",
        "#Boxplot\n",
        "plt.subplot(2, 2, 4)\n",
        "plt.boxplot(demand2D_tempC1)\n",
        "plt.grid(True)\n"
      ],
      "metadata": {
        "id": "KBw4d7b2_I3O"
      },
      "execution_count": null,
      "outputs": []
    },
    {
      "cell_type": "markdown",
      "source": [
        "## **C2**"
      ],
      "metadata": {
        "id": "iGrk-lQg_SE_"
      }
    },
    {
      "cell_type": "code",
      "source": [
        "#Lineplot\n",
        "plt.subplot(2, 2, 1)\n",
        "plt.plot(temp_df.Temperature_C2, linewidth = .5)\n",
        "plt.xlabel('Time')\n",
        "plt.ylabel('Temperature')\n",
        "plt.grid(True)\n",
        "\n",
        "plt.rcParams['figure.figsize'] = [16, 10]\n",
        "plt.rcParams.update({'font.size': 15})\n",
        "\n",
        "#Heatmap\n",
        "plt.subplot(2, 2, 2)\n",
        "demand1D_tempC2 = np.array(temp_df.Temperature_C2)\n",
        "number_samples = 288\n",
        "number_days = demand1D_tempC2.shape[0] // number_samples\n",
        "demand2D_tempC2 = demand1D_tempC2[:number_days * number_samples].reshape(number_days, number_samples)\n",
        "\n",
        "plt.imshow(demand2D_tempC2, cmap='hot')\n",
        "plt.xlabel('Time of Day')\n",
        "plt.ylabel('Day of Year')\n",
        "plt.colorbar()\n",
        "\n",
        "#Mean Variability\n",
        "plt.subplot(2, 2, 3)\n",
        "plt.plot(demand2D_tempC2.T, alpha=.1, color='black')\n",
        "plt.plot(np.mean(demand2D_tempC2, axis=0), '*--', color='red')\n",
        "plt.xlabel('Time of day')\n",
        "plt.ylabel('Average Temperature')\n",
        "plt.grid(True)\n",
        "\n",
        "#Boxplot\n",
        "plt.subplot(2, 2, 4)\n",
        "plt.boxplot(demand2D_tempC2)\n",
        "plt.grid(True)\n"
      ],
      "metadata": {
        "id": "6LS4ttCk_SQE"
      },
      "execution_count": null,
      "outputs": []
    },
    {
      "cell_type": "markdown",
      "source": [
        "# **Seasonailty Check**"
      ],
      "metadata": {
        "id": "DRziTarQApoi"
      }
    },
    {
      "cell_type": "code",
      "source": [
        "#T1\n",
        "\n",
        "plt.hist(demand1D_tempT1, bins=20)\n",
        "plt.xlabel('Temperature')\n",
        "plt.ylabel('Frequency')\n",
        "plt.grid(True)\n",
        "plt.show()\n",
        "\n",
        "#T2\n",
        "\n",
        "plt.hist(demand1D_tempT2, bins=20)\n",
        "plt.xlabel('Temperature')\n",
        "plt.ylabel('Frequency')\n",
        "plt.grid(True)\n",
        "plt.show()\n",
        "\n",
        "#T3\n",
        "\n",
        "plt.hist(demand1D_tempT3, bins=20)\n",
        "plt.xlabel('Temperature')\n",
        "plt.ylabel('Frequency')\n",
        "plt.grid(True)\n",
        "plt.show()\n",
        "\n",
        "#T4\n",
        "\n",
        "plt.hist(demand1D_tempT4, bins=20)\n",
        "plt.xlabel('Temperature')\n",
        "plt.ylabel('Frequency')\n",
        "plt.grid(True)\n",
        "plt.show()\n",
        "\n",
        "#C1\n",
        "\n",
        "plt.hist(demand1D_tempC1, bins=20)\n",
        "plt.xlabel('Temperature')\n",
        "plt.ylabel('Frequency')\n",
        "plt.grid(True)\n",
        "plt.show()\n",
        "\n",
        "#C2\n",
        "\n",
        "plt.hist(demand1D_tempC2, bins=20)\n",
        "plt.xlabel('Temperature')\n",
        "plt.ylabel('Frequency')\n",
        "plt.grid(True)\n",
        "plt.show()\n",
        "\n",
        "\n"
      ],
      "metadata": {
        "id": "eM7fXmBXAr-2"
      },
      "execution_count": null,
      "outputs": []
    },
    {
      "cell_type": "markdown",
      "source": [
        "# **Plotly Visualizations**"
      ],
      "metadata": {
        "id": "YQBV29OxAzCc"
      }
    },
    {
      "cell_type": "code",
      "source": [
        "import plotly.graph_objects as go\n",
        "fig = go.Figure(data=go.Scatter(x=np.arange(len(demand1D_tempT1)),\n",
        "                                y=demand1D_tempT1))\n",
        "fig.update_layout(xaxis_title='Time of year',\n",
        "                  yaxis_title='Electricity demand [kW]',\n",
        "                  title='T1')\n",
        "fig.show()\n",
        "\n",
        "fig = go.Figure(data=go.Scatter(x=np.arange(len(demand1D_tempT2)),\n",
        "                                y=demand1D_tempT2))\n",
        "fig.update_layout(xaxis_title='Time of year',\n",
        "                  yaxis_title='Electricity demand [kW]',\n",
        "                  title='T2')\n",
        "fig.show()\n",
        "\n",
        "fig = go.Figure(data=go.Scatter(x=np.arange(len(demand1D_tempT3)),\n",
        "                                y=demand1D_tempT3))\n",
        "fig.update_layout(xaxis_title='Time of year',\n",
        "                  yaxis_title='Electricity demand [kW]',\n",
        "                  title='T3')\n",
        "fig.show()\n",
        "\n",
        "fig = go.Figure(data=go.Scatter(x=np.arange(len(demand1D_tempT4)),\n",
        "                                y=demand1D_tempT4))\n",
        "fig.update_layout(xaxis_title='Time of year',\n",
        "                  yaxis_title='Electricity demand [kW]',\n",
        "                  title='T4')\n",
        "fig.show()\n",
        "\n",
        "fig = go.Figure(data=go.Scatter(x=np.arange(len(demand1D_tempC1)),\n",
        "                                y=demand1D_tempC1))\n",
        "fig.update_layout(xaxis_title='Time of year',\n",
        "                  yaxis_title='Electricity demand [kW]',\n",
        "                  title='C1')\n",
        "fig.show()\n",
        "\n",
        "fig = go.Figure(data=go.Scatter(x=np.arange(len(demand1D_tempC2)),\n",
        "                                y=demand1D_tempC2))\n",
        "fig.update_layout(xaxis_title='Time of year',\n",
        "                  yaxis_title='Electricity demand [kW]',\n",
        "                  title='C2')\n",
        "fig.show()"
      ],
      "metadata": {
        "id": "RqHbwO6WFB9P"
      },
      "execution_count": null,
      "outputs": []
    }
  ]
}