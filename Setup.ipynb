{
  "nbformat": 4,
  "nbformat_minor": 0,
  "metadata": {
    "colab": {
      "provenance": [],
      "authorship_tag": "ABX9TyM/1g2f6w2viv3mgVT1VZa2",
      "include_colab_link": true
    },
    "kernelspec": {
      "name": "python3",
      "display_name": "Python 3"
    },
    "language_info": {
      "name": "python"
    }
  },
  "cells": [
    {
      "cell_type": "markdown",
      "metadata": {
        "id": "view-in-github",
        "colab_type": "text"
      },
      "source": [
        "<a href=\"https://colab.research.google.com/github/DeusExMachina25/ESAT-Sensory-Analysis-Netatmos/blob/main/Setup.ipynb\" target=\"_parent\"><img src=\"https://colab.research.google.com/assets/colab-badge.svg\" alt=\"Open In Colab\"/></a>"
      ]
    },
    {
      "cell_type": "code",
      "execution_count": null,
      "metadata": {
        "id": "Yj_dvSliHHYd"
      },
      "outputs": [],
      "source": [
        "pip install pandas numpy matplotlib seaborn openpyxl scipy scikit-learn pykrige\n",
        "\n",
        "import pandas as pd\n",
        "import numpy as np\n",
        "import matplotlib.pyplot as plt\n",
        "import seaborn as sns\n",
        "from glob import glob\n",
        "from scipy.interpolate import griddata\n",
        "from sklearn.neighbors import KNeighborsRegressor\n",
        "from pykrige.ok import OrdinaryKriging"
      ]
    },
    {
      "cell_type": "code",
      "source": [
        "# Define the path to your Excel files (modify accordingly)\n",
        "file_path_T1 = \"drive/MyDrive/Sensor Data/T15Min.xlsx\"\n",
        "file_path_T2 = \"drive/MyDrive/Sensor Data/T25Min.xlsx\"\n",
        "file_path_T3 = \"drive/MyDrive/Sensor Data/T35Min.xlsx\"\n",
        "file_path_T4 = \"drive/MyDrive/Sensor Data/T45Min.xlsx\"\n",
        "file_path_C1 = \"drive/MyDrive/Sensor Data/C15Min.xlsx\"\n",
        "file_path_C2 = \"drive/MyDrive/Sensor Data/C25Min.xlsx\"\n",
        "\n",
        " #file_list = glob(file_path_pattern)\n",
        "\n",
        "# Initialize an empty list to store data from each file\n",
        "df_T1 = pd.read_excel(file_path_T1, header=2)\n",
        "df_T2 = pd.read_excel(file_path_T2, header=2)\n",
        "df_T3 = pd.read_excel(file_path_T3, header=2)\n",
        "df_T4 = pd.read_excel(file_path_T4, header=2)\n",
        "df_C1 = pd.read_excel(file_path_C1, header=2)\n",
        "df_C2 = pd.read_excel(file_path_C2, header=2)\n",
        "\n",
        "# Check the first few rows\n",
        "print(df_T1.head())\n",
        "print(df_T2.head())\n",
        "print(df_T3.head())\n",
        "print(df_T4.head())\n",
        "print(df_C1.head())\n",
        "print(df_C2.head())\n",
        "\n",
        "#print(df_T1.info())\n",
        "#print(df_T2.info())\n",
        "#print(df_T3.info())\n",
        "#print(df_T4.info())\n",
        "#print(df_C1.info())\n",
        "#print(df_C2.info())"
      ],
      "metadata": {
        "id": "2FdbiKKCHLXI"
      },
      "execution_count": null,
      "outputs": []
    },
    {
      "cell_type": "code",
      "source": [
        "# Assume the DataFrames are already loaded and stored in this dictionary\n",
        "sensor_files_5Min = {\n",
        "    'T1': df_T1,\n",
        "    'T2': df_T2,\n",
        "    'T3': df_T3,\n",
        "    'T4': df_T4,\n",
        "    'C1': df_C1,\n",
        "    'C2': df_C2\n",
        "}\n",
        "\n",
        "for sensor, df in sensor_files_5Min.items():\n",
        "    print(f\"Processing data for sensor: {sensor}\")\n",
        "    print(df.head())"
      ],
      "metadata": {
        "id": "eaNPLNmJHNKR"
      },
      "execution_count": null,
      "outputs": []
    },
    {
      "cell_type": "code",
      "source": [],
      "metadata": {
        "id": "JySb2VV-HPKa"
      },
      "execution_count": null,
      "outputs": []
    }
  ]
}